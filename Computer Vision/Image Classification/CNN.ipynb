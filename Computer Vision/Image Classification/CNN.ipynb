{
  "nbformat": 4,
  "nbformat_minor": 0,
  "metadata": {
    "colab": {
      "provenance": [],
      "machine_shape": "hm",
      "gpuType": "A100"
    },
    "kernelspec": {
      "name": "python3",
      "display_name": "Python 3"
    },
    "language_info": {
      "name": "python"
    },
    "accelerator": "GPU"
  },
  "cells": [
    {
      "cell_type": "markdown",
      "source": [
        "MNIST 데이터셋을 이용하여 CNN 모델에 대해 알아본다."
      ],
      "metadata": {
        "id": "G3jf1JJxi6wr"
      }
    },
    {
      "cell_type": "code",
      "source": [
        "import numpy as np\n",
        "import keras\n",
        "\n",
        "(x_train, y_train), (x_test, y_test) = keras.datasets.mnist.load_data()\n",
        "\n",
        "print(x_train.shape[1:])\n",
        "print(' 훈련셋  개수', x_train.shape[0])\n",
        "print('테스트셋 개수', x_test.shape[0])"
      ],
      "metadata": {
        "colab": {
          "base_uri": "https://localhost:8080/"
        },
        "id": "d2vAIRJZjIYL",
        "outputId": "01968d88-85e3-4204-e7fe-adbc1bb70777"
      },
      "execution_count": null,
      "outputs": [
        {
          "output_type": "stream",
          "name": "stdout",
          "text": [
            "Downloading data from https://storage.googleapis.com/tensorflow/tf-keras-datasets/mnist.npz\n",
            "\u001b[1m11490434/11490434\u001b[0m \u001b[32m━━━━━━━━━━━━━━━━━━━━\u001b[0m\u001b[37m\u001b[0m \u001b[1m0s\u001b[0m 0us/step\n",
            "(28, 28)\n",
            " 훈련셋  개수 60000\n",
            "테스트셋 개수 10000\n"
          ]
        }
      ]
    },
    {
      "cell_type": "markdown",
      "source": [
        "MNIST 데이터셋은 아래 이미지와 같은 (28, 28)크기의 0 ~ 9의 손글씨 숫자 데이터이다."
      ],
      "metadata": {
        "id": "9QltjBqRkVyR"
      }
    },
    {
      "cell_type": "code",
      "source": [
        "import matplotlib.pyplot as plt\n",
        "\n",
        "plt.figure(figsize = (10, 3))\n",
        "\n",
        "for i in range(5):\n",
        "  plt.subplot(1, 5, i + 1)\n",
        "  plt.imshow(x_train[i], cmap = 'gray')\n",
        "  plt.axis('off')\n",
        "\n",
        "plt.show()"
      ],
      "metadata": {
        "colab": {
          "base_uri": "https://localhost:8080/",
          "height": 170
        },
        "id": "YERIk5LHkDPq",
        "outputId": "4041f216-56d7-40bd-94f5-d8367a025566"
      },
      "execution_count": null,
      "outputs": [
        {
          "output_type": "display_data",
          "data": {
            "text/plain": [
              "<Figure size 1000x300 with 5 Axes>"
            ],
            "image/png": "[encoded data removed]"
          },
          "metadata": {}
        }
      ]
    },
    {
      "cell_type": "markdown",
      "source": [
        "합성곱 신경망 Convolution Neural Networks (CNN, ConvNet)은 컴퓨터 비전에서 가장 많이 사용되는 알고리즘 중 하나이다.\n",
        "\n",
        "CNN 모델은 다른 모델처럼 입력층, 출력층과 그 사이의 몇 개의 은닉층으로 구성된다.\n",
        "\n",
        "은닉층의 대표적인 구성 요소로는 다음과 같은 층이 있다.\n",
        "\n",
        "\n",
        "*   **Conv2D** : 합성곱 층, 입력된 데이터의 패턴을 찾아냄\n",
        "*   **MaxPooling2D** : 풀링층, 입력된 데이터의 높이와 너비를 지정한 비율만큼 축소\n",
        "*   **Flatten** : 평탄화 층, 입력받은 데이터를 1D(1차원)어레이로 변환\n",
        "*   **Dense** : CNN 모델의 일반적인 출력층\n",
        "\n"
      ],
      "metadata": {
        "id": "h6C-4huWklrI"
      }
    },
    {
      "cell_type": "markdown",
      "source": [
        "### 합성곱 층\n",
        "\n",
        "데이터에서 위치와 관계없이 패턴을 찾아낸다. (다른 위치여도 동일한 패턴이라면 동일한 값으로 본다.)\n",
        "\n",
        "또한 합성곱 연산을 여러번 반복한다면 패턴 속 패턴 즉, 상세한 패턴을 찾아낼 수 있다."
      ],
      "metadata": {
        "id": "ssixE9TppjYs"
      }
    },
    {
      "cell_type": "code",
      "source": [
        "import matplotlib.patches as patches\n",
        "\n",
        "x = x_train[0]\n",
        "\n",
        "fig, axs = plt.subplots(ncols = 3, figsize = (10, 3))\n",
        "axs = axs.flatten()\n",
        "\n",
        "plt.sca(axs[0])\n",
        "plt.imshow(x, cmap = 'gray')\n",
        "\n",
        "box_1 = patches.Rectangle((3, 21), 4, 4, linewidth = 2, edgecolor = 'red', facecolor = 'none')\n",
        "axs[0].add_patch(box_1)\n",
        "plt.text(4, 20, '1', fontsize = 15, color = 'red')\n",
        "\n",
        "box_2 = patches.Rectangle((10, 10), 4, 4, linewidth = 2, edgecolor = 'red', facecolor = 'none')\n",
        "axs[0].add_patch(box_2)\n",
        "plt.text(8, 13, '2', fontsize = 15, color = 'red')\n",
        "\n",
        "plt.axis('off')\n",
        "\n",
        "plt.sca(axs[1])\n",
        "plt.imshow(x[21:26, 3:8], cmap = 'gray')\n",
        "plt.title(1)\n",
        "plt.axis('off')\n",
        "\n",
        "plt.sca(axs[2])\n",
        "plt.imshow(x[10:15, 10:15], cmap = 'gray')\n",
        "plt.title(2)\n",
        "plt.axis('off')\n",
        "\n",
        "plt.show()"
      ],
      "metadata": {
        "id": "2zAem5L8mrxB",
        "colab": {
          "base_uri": "https://localhost:8080/",
          "height": 287
        },
        "outputId": "4589812f-03d4-4d14-adea-aa4d832de112"
      },
      "execution_count": null,
      "outputs": [
        {
          "output_type": "display_data",
          "data": {
            "text/plain": [
              "<Figure size 1000x300 with 3 Axes>"
            ],
            "image/png": "[encoded data removed]"
          },
          "metadata": {}
        }
      ]
    },
    {
      "cell_type": "markdown",
      "source": [
        "Conv2D층의 주요 파라미터는 다음과 같다.\n",
        "\n",
        "```python\n",
        "layers.Conv2D(\n",
        "  filters = 32,\n",
        "  kernel_size = 3,\n",
        "  strides = 1,\n",
        "  padding = 'same',\n",
        "  activation = 'relu'\n",
        ")\n",
        "```\n",
        "\n",
        "\n",
        "\n",
        "*   filters : 필터 개수, 필터 개수는 층 통과 시 채널의 개수 (채널 : 데이터의 특성, 흑백 이미지는 채널이 1개, RGB 이미지는 채널이 3개)\n",
        "*   kernel_size : 커널의 크기\n",
        "*   strides : 보폭, 합성곱 연산 시 커널을 몇 만큼 이동할 것인지 지정\n",
        "*   padding : 패딩의 여부, 'same' 지정 시 보폭이 1인 경우 출력 데이터의 (가로, 세로)는 입력 데이터와 동일\n",
        "*   activation : 활성화 함수, 대부분 relu 사용. (relu 함수 : 0 이하인 값을 0으로 설정)\n",
        "\n"
      ],
      "metadata": {
        "id": "z_peMM-AuQQ1"
      }
    },
    {
      "cell_type": "code",
      "source": [
        "from keras import layers\n",
        "import tensorflow as tf\n",
        "\n",
        "sample = x_train[0]\n",
        "sample = tf.expand_dims(sample, axis = 0)   # 0번 차원 : 배치 크기\n",
        "sample = tf.expand_dims(sample, axis = -1)  # 3번 차원 : 채널 수\n",
        "print('기존 데이터의 모양', sample.shape)\n",
        "\n",
        "rescaled_sample = layers.Rescaling(1./255)(sample)\n",
        "\n",
        "x = layers.Conv2D(filters = 32, kernel_size = 3, padding = 'same', activation = 'relu')(rescaled_sample) # 필터 개수 32개, padding = 'same'을 사용하여 원본과 같은 크기를 유지\n",
        "print('filter : 32, kernel_size : 3, padding : same, strides : none', x.shape)\n",
        "\n",
        "x = layers.Conv2D(filters = 64, kernel_size = 3, activation = 'relu')(rescaled_sample) # 필터 개수 64개, padding을 사용하지 않아 (가로, 세로) 2씩 감소\n",
        "print('filter : 64, kernel_size : 3, padding : none, strides : none', x.shape)\n",
        "\n",
        "x = layers.Conv2D(filters = 32, kernel_size = 3, strides = 2, padding = 'same', activation = 'relu')(rescaled_sample) # 필터 개수 32개, 보폭 2로 지정, (가로, 세로) 비율이 절반으로 감소\n",
        "print('filter : 32, kernel_size : 3, padding : same, strides : 2   ', x.shape)\n",
        "\n",
        "x = layers.Conv2D(filters = 32, kernel_size = 3, strides = 2, activation = 'relu')(rescaled_sample) # 필터 개수 32개, 보폭 2로 지정, (가로, 세로) 2씩 감소 및 절반으로 감소\n",
        "print('filter : 32, kernel_size : 3, padding : none, strides : 2   ', x.shape)\n",
        "\n",
        "x = layers.Conv2D(filters = 32, kernel_size = 5, activation = 'relu')(rescaled_sample) # 필터 개수 32개, 커널의 크기 5, (가로, 세로) 4씩 감소\n",
        "print('filter : 32, kernel_size : 5, padding : none, strides : none', x.shape)"
      ],
      "metadata": {
        "colab": {
          "base_uri": "https://localhost:8080/"
        },
        "id": "fqF3riHJuKq2",
        "outputId": "a9b7f3ac-e645-48d9-c434-1b9e55958f66"
      },
      "execution_count": null,
      "outputs": [
        {
          "output_type": "stream",
          "name": "stdout",
          "text": [
            "기존 데이터의 모양 (1, 28, 28, 1)\n",
            "filter : 32, kernel_size : 3, padding : same, strides : none (1, 28, 28, 32)\n",
            "filter : 64, kernel_size : 3, padding : none, strides : none (1, 26, 26, 64)\n",
            "filter : 32, kernel_size : 3, padding : same, strides : 2    (1, 14, 14, 32)\n",
            "filter : 32, kernel_size : 3, padding : none, strides : 2    (1, 13, 13, 32)\n",
            "filter : 32, kernel_size : 5, padding : none, strides : none (1, 24, 24, 32)\n"
          ]
        }
      ]
    },
    {
      "cell_type": "markdown",
      "source": [
        "활성화 함수 Relu는 0이하의 값(음수)를 0으로 만드는 효과를 가지고 있다."
      ],
      "metadata": {
        "id": "udeq6BEn0FKo"
      }
    },
    {
      "cell_type": "code",
      "source": [
        "sample = tf.convert_to_tensor(np.arange(-3, 4))\n",
        "print(sample)\n",
        "\n",
        "x = layers.ReLU()\n",
        "x = x(sample)\n",
        "\n",
        "print(x)"
      ],
      "metadata": {
        "colab": {
          "base_uri": "https://localhost:8080/"
        },
        "id": "_hCvXTj7zO1f",
        "outputId": "33b945c3-7b1e-4d26-c5fb-d8211b843c5b"
      },
      "execution_count": null,
      "outputs": [
        {
          "output_type": "stream",
          "name": "stdout",
          "text": [
            "tf.Tensor([-3 -2 -1  0  1  2  3], shape=(7,), dtype=int64)\n",
            "tf.Tensor([0 0 0 0 1 2 3], shape=(7,), dtype=int64)\n"
          ]
        }
      ]
    },
    {
      "cell_type": "markdown",
      "source": [
        "### 풀링 층\n",
        "풀링은 지정한 크기만큼의 영역 안에서 특정한 값을 하나만 선택한다. 여러 값들 중 하나만 선택하기 때문에 입력 데이터에서 크기가 감소한다.\n",
        "\n",
        "CNN에서 많이 사용되는 MaxPooing은 최댓값을 선택한다."
      ],
      "metadata": {
        "id": "CJ6q51Et1lAt"
      }
    },
    {
      "cell_type": "markdown",
      "source": [
        "MaxPooling2D층의 주요 파라미터는 다음과 같다.\n",
        "\n",
        "```python\n",
        "layers.MaxPooling2D(\n",
        "  pool_size = (2, 2),\n",
        "  strides = 1,\n",
        "  padding\n",
        ")\n",
        "```\n",
        "\n",
        "\n",
        "\n",
        "*   pool_size : 풀링 영역의 크기 지정\n",
        "*   strides : 보폭, 풀링 영역을 얼마나 이동할 것인지 지정\n",
        "*   paading : 패딩 여부\n",
        "\n"
      ],
      "metadata": {
        "id": "wA-aU4zr5opo"
      }
    },
    {
      "cell_type": "code",
      "source": [
        "sample = x_train[0]\n",
        "\n",
        "plt.figure(figsize = (14, 4))\n",
        "\n",
        "plt.subplot(1, 4, 1)\n",
        "plt.imshow(sample, cmap = 'gray') # 원본 이미지\n",
        "plt.title(sample.shape) # 원본 이미지의 모양\n",
        "plt.axis('off')\n",
        "\n",
        "sample = tf.expand_dims(sample, axis = 0)\n",
        "sample = tf.expand_dims(sample, axis = -1)\n",
        "\n",
        "x = layers.MaxPooling2D(pool_size = (2, 2))(sample) # 풀링 영역의 크기를 (2 x 2)로 지정\n",
        "x = tf.squeeze(x, axis = 0)\n",
        "\n",
        "plt.subplot(1, 4, 2)\n",
        "plt.imshow(x, cmap = 'gray')\n",
        "plt.title(x.shape)\n",
        "plt.axis('off')\n",
        "\n",
        "x = layers.MaxPooling2D(pool_size = (3, 3))(sample) # 풀링 영역의 크기를 (3 x 3)로 지정\n",
        "x = tf.squeeze(x, axis = 0)\n",
        "\n",
        "plt.subplot(1, 4, 3)\n",
        "plt.imshow(x, cmap = 'gray')\n",
        "plt.title(x.shape)\n",
        "plt.axis('off')\n",
        "\n",
        "x = layers.MaxPooling2D(pool_size = (4, 4))(sample) # 풀링 영역의 크기를 (4 x 4)로 지정\n",
        "x = tf.squeeze(x, axis = 0)\n",
        "\n",
        "plt.subplot(1, 4, 4)\n",
        "plt.imshow(x, cmap = 'gray')\n",
        "plt.title(x.shape)\n",
        "plt.axis('off')\n",
        "\n",
        "plt.show()"
      ],
      "metadata": {
        "colab": {
          "base_uri": "https://localhost:8080/",
          "height": 295
        },
        "id": "wip7sJIb382x",
        "outputId": "70b67a37-35da-4754-d5f5-02e5e7e4e374"
      },
      "execution_count": null,
      "outputs": [
        {
          "output_type": "display_data",
          "data": {
            "text/plain": [
              "<Figure size 1400x400 with 4 Axes>"
            ],
            "image/png": "[encoded data removed]"
          },
          "metadata": {}
        }
      ]
    },
    {
      "cell_type": "markdown",
      "source": [
        "위의 그림에서 알 수 있듯이 풀링의 영역이 2, 3, 4로 증가할수록 풀링 후 데이터의 크기는 1/2, 1/3, 1/4로 감소한다. (동일한 비율만큼 감소함)\n",
        "\n",
        "또한 풀링 영역이 커질수록 해상도가 나빠진다.\n",
        "\n",
        "이번에는 보폭과 패딩을 사용해보자."
      ],
      "metadata": {
        "id": "6qjNJ0Qd6GlQ"
      }
    },
    {
      "cell_type": "code",
      "source": [
        "sample = x_train[0]\n",
        "\n",
        "plt.figure(figsize = (6, 6))\n",
        "\n",
        "plt.subplot(2, 2, 1)\n",
        "plt.imshow(sample, cmap = 'gray') # 원본 이미지\n",
        "plt.title('1. original') # 원본 이미지의 모양\n",
        "plt.axis('off')\n",
        "\n",
        "sample = tf.expand_dims(sample, axis = 0)\n",
        "sample = tf.expand_dims(sample, axis = -1)\n",
        "\n",
        "x = layers.MaxPooling2D(pool_size = (2, 2), strides = 2, padding = 'same')(sample) # 보폭을 2로 지정, 패딩 사용\n",
        "x = tf.squeeze(x, axis = 0)\n",
        "print('보폭, 패딩 모두 사용', x.shape)\n",
        "\n",
        "plt.subplot(2, 2, 2)\n",
        "plt.imshow(x, cmap = 'gray')\n",
        "plt.title('2. strides, padding')\n",
        "plt.axis('off')\n",
        "\n",
        "x = layers.MaxPooling2D(pool_size = (2, 2), strides = 1, padding = 'same')(sample) # 패딩만 사용\n",
        "x = tf.squeeze(x, axis = 0)\n",
        "print('패딩만 사용', x.shape)\n",
        "\n",
        "plt.subplot(2, 2, 3)\n",
        "plt.imshow(x, cmap = 'gray')\n",
        "plt.title('3. padding')\n",
        "plt.axis('off')\n",
        "\n",
        "x = layers.MaxPooling2D(pool_size = (2, 2), strides = 2)(sample) # 보폭만 2로 지정\n",
        "x = tf.squeeze(x, axis = 0)\n",
        "print('보폭만 사용', x.shape)\n",
        "\n",
        "plt.subplot(2, 2, 4)\n",
        "plt.imshow(x, cmap = 'gray')\n",
        "plt.title('4. strides')\n",
        "plt.axis('off')\n",
        "\n",
        "plt.show()"
      ],
      "metadata": {
        "colab": {
          "base_uri": "https://localhost:8080/",
          "height": 576
        },
        "id": "zNFEUSfk719-",
        "outputId": "35e16944-0345-4b8f-caa7-516d1833096b"
      },
      "execution_count": null,
      "outputs": [
        {
          "output_type": "stream",
          "name": "stdout",
          "text": [
            "보폭, 패딩 모두 사용 (14, 14, 1)\n",
            "패딩만 사용 (28, 28, 1)\n",
            "보폭만 사용 (14, 14, 1)\n"
          ]
        },
        {
          "output_type": "display_data",
          "data": {
            "text/plain": [
              "<Figure size 600x600 with 4 Axes>"
            ],
            "image/png": "[encoded data removed]"
          },
          "metadata": {}
        }
      ]
    },
    {
      "cell_type": "markdown",
      "source": [
        "1, 3번 이미지를 보면 3번은 보폭을 1로 지정하여 (가로, 세로)가 달라지지 않았지만 영역의 최댓값을 선택하기 때문에 원본과 이미지가 다르다.\n",
        "\n",
        "2, 4번 이미지는 동일한 것처럼 보인다.\n",
        "\n",
        "사실 **풀링 영역의 크기가 보폭 크기다.** 영역의 크기가 (2, 2) 이므로 'strides = 2'를 지정한 것이 의미가 없다.\n",
        "\n",
        "보폭을 영역보다 크게 지정하면 아래 이미지처럼 바뀐다."
      ],
      "metadata": {
        "id": "1od1_kW_9MV7"
      }
    },
    {
      "cell_type": "code",
      "source": [
        "x = layers.MaxPooling2D(pool_size = (2, 2), strides = 3, padding = 'same')(sample) # 보폭을 3으로 변경\n",
        "x = tf.squeeze(x, axis = 0)\n",
        "\n",
        "plt.figure(figsize = (3 , 3))\n",
        "\n",
        "plt.imshow(x, cmap = 'gray')\n",
        "plt.title(x.shape)\n",
        "plt.axis('off')\n",
        "\n",
        "plt.show()"
      ],
      "metadata": {
        "colab": {
          "base_uri": "https://localhost:8080/",
          "height": 290
        },
        "id": "zul7s219-IsC",
        "outputId": "5a8aeacf-8db5-48a3-d647-1a06ce0ae0d5"
      },
      "execution_count": null,
      "outputs": [
        {
          "output_type": "display_data",
          "data": {
            "text/plain": [
              "<Figure size 300x300 with 1 Axes>"
            ],
            "image/png": "[encoded data removed]"
          },
          "metadata": {}
        }
      ]
    },
    {
      "cell_type": "markdown",
      "source": [
        "### Flatten\n",
        "\n",
        "평탄화 층은 입력 데이터를 1D(1차원)으로 변경한다."
      ],
      "metadata": {
        "id": "l10Z65rm-zfC"
      }
    },
    {
      "cell_type": "code",
      "source": [
        "sample = tf.convert_to_tensor(np.arange(9).reshape((3, 3)))\n",
        "print(sample.numpy())\n",
        "\n",
        "sample = tf.expand_dims(sample, axis = 0)\n",
        "\n",
        "x = layers.Flatten()(sample)\n",
        "print(x.numpy())"
      ],
      "metadata": {
        "colab": {
          "base_uri": "https://localhost:8080/"
        },
        "id": "COlxasOw-8Oi",
        "outputId": "bcb381a1-7e92-4c8a-9c2d-ea4201436f40"
      },
      "execution_count": null,
      "outputs": [
        {
          "output_type": "stream",
          "name": "stdout",
          "text": [
            "[[0 1 2]\n",
            " [3 4 5]\n",
            " [6 7 8]]\n",
            "[[0 1 2 3 4 5 6 7 8]]\n"
          ]
        }
      ]
    },
    {
      "cell_type": "markdown",
      "source": [
        "### 모델 훈련\n",
        "\n",
        "이제 CNN 모델을 훈련시켜보자. CNN 모델의 구조는 일반적으로\n",
        "\n",
        "**입력층 -> 합성곱 -> 풀링 -> 합성곱 -> 풀링 -> ... -> 평탄화 -> 출력층**\n",
        "\n",
        "를 따른다."
      ],
      "metadata": {
        "id": "LaG1KViAAED4"
      }
    },
    {
      "cell_type": "code",
      "source": [
        "inputs = keras.Input(shape = (28, 28, 1))\n",
        "\n",
        "x = layers.Rescaling(1./255)(inputs)\n",
        "\n",
        "x = layers.Conv2D(filters = 32, kernel_size = 3, activation = 'relu')(x)\n",
        "x = layers.MaxPooling2D(pool_size = 2)(x)\n",
        "x = layers.Conv2D(filters = 64, kernel_size = 3, activation = 'relu')(x)\n",
        "x = layers.MaxPooling2D(pool_size = 2)(x)\n",
        "x = layers.Flatten()(x)\n",
        "x = layers.Dropout(0.25)(x)\n",
        "\n",
        "outputs = layers.Dense(10, activation = 'softmax')(x)\n",
        "\n",
        "model = keras.Model(inputs = inputs, outputs = outputs)\n",
        "\n",
        "model.summary()"
      ],
      "metadata": {
        "colab": {
          "base_uri": "https://localhost:8080/",
          "height": 442
        },
        "id": "FDwYsmLDARcA",
        "outputId": "0ae6e20b-fff9-499d-dce9-8c1d1fb23cb1"
      },
      "execution_count": null,
      "outputs": [
        {
          "output_type": "display_data",
          "data": {
            "text/plain": [
              "\u001b[1mModel: \"functional\"\u001b[0m\n"
            ],
            "text/html": [
              "<pre style=\"white-space:pre;overflow-x:auto;line-height:normal;font-family:Menlo,'DejaVu Sans Mono',consolas,'Courier New',monospace\"><span style=\"font-weight: bold\">Model: \"functional\"</span>\n",
              "</pre>\n"
            ]
          },
          "metadata": {}
        },
        {
          "output_type": "display_data",
          "data": {
            "text/plain": [
              "┏━━━━━━━━━━━━━━━━━━━━━━━━━━━━━━━━━━━━━━┳━━━━━━━━━━━━━━━━━━━━━━━━━━━━━┳━━━━━━━━━━━━━━━━━┓\n",
              "┃\u001b[1m \u001b[0m\u001b[1mLayer (type)                        \u001b[0m\u001b[1m \u001b[0m┃\u001b[1m \u001b[0m\u001b[1mOutput Shape               \u001b[0m\u001b[1m \u001b[0m┃\u001b[1m \u001b[0m\u001b[1m        Param #\u001b[0m\u001b[1m \u001b[0m┃\n",
              "┡━━━━━━━━━━━━━━━━━━━━━━━━━━━━━━━━━━━━━━╇━━━━━━━━━━━━━━━━━━━━━━━━━━━━━╇━━━━━━━━━━━━━━━━━┩\n",
              "│ input_layer (\u001b[38;5;33mInputLayer\u001b[0m)             │ (\u001b[38;5;45mNone\u001b[0m, \u001b[38;5;34m28\u001b[0m, \u001b[38;5;34m28\u001b[0m, \u001b[38;5;34m1\u001b[0m)           │               \u001b[38;5;34m0\u001b[0m │\n",
              "├──────────────────────────────────────┼─────────────────────────────┼─────────────────┤\n",
              "│ rescaling_1 (\u001b[38;5;33mRescaling\u001b[0m)              │ (\u001b[38;5;45mNone\u001b[0m, \u001b[38;5;34m28\u001b[0m, \u001b[38;5;34m28\u001b[0m, \u001b[38;5;34m1\u001b[0m)           │               \u001b[38;5;34m0\u001b[0m │\n",
              "├──────────────────────────────────────┼─────────────────────────────┼─────────────────┤\n",
              "│ conv2d_5 (\u001b[38;5;33mConv2D\u001b[0m)                    │ (\u001b[38;5;45mNone\u001b[0m, \u001b[38;5;34m26\u001b[0m, \u001b[38;5;34m26\u001b[0m, \u001b[38;5;34m32\u001b[0m)          │             \u001b[38;5;34m320\u001b[0m │\n",
              "├──────────────────────────────────────┼─────────────────────────────┼─────────────────┤\n",
              "│ max_pooling2d_7 (\u001b[38;5;33mMaxPooling2D\u001b[0m)       │ (\u001b[38;5;45mNone\u001b[0m, \u001b[38;5;34m13\u001b[0m, \u001b[38;5;34m13\u001b[0m, \u001b[38;5;34m32\u001b[0m)          │               \u001b[38;5;34m0\u001b[0m │\n",
              "├──────────────────────────────────────┼─────────────────────────────┼─────────────────┤\n",
              "│ conv2d_6 (\u001b[38;5;33mConv2D\u001b[0m)                    │ (\u001b[38;5;45mNone\u001b[0m, \u001b[38;5;34m11\u001b[0m, \u001b[38;5;34m11\u001b[0m, \u001b[38;5;34m64\u001b[0m)          │          \u001b[38;5;34m18,496\u001b[0m │\n",
              "├──────────────────────────────────────┼─────────────────────────────┼─────────────────┤\n",
              "│ max_pooling2d_8 (\u001b[38;5;33mMaxPooling2D\u001b[0m)       │ (\u001b[38;5;45mNone\u001b[0m, \u001b[38;5;34m5\u001b[0m, \u001b[38;5;34m5\u001b[0m, \u001b[38;5;34m64\u001b[0m)            │               \u001b[38;5;34m0\u001b[0m │\n",
              "├──────────────────────────────────────┼─────────────────────────────┼─────────────────┤\n",
              "│ flatten_1 (\u001b[38;5;33mFlatten\u001b[0m)                  │ (\u001b[38;5;45mNone\u001b[0m, \u001b[38;5;34m1600\u001b[0m)                │               \u001b[38;5;34m0\u001b[0m │\n",
              "├──────────────────────────────────────┼─────────────────────────────┼─────────────────┤\n",
              "│ dropout (\u001b[38;5;33mDropout\u001b[0m)                    │ (\u001b[38;5;45mNone\u001b[0m, \u001b[38;5;34m1600\u001b[0m)                │               \u001b[38;5;34m0\u001b[0m │\n",
              "├──────────────────────────────────────┼─────────────────────────────┼─────────────────┤\n",
              "│ dense (\u001b[38;5;33mDense\u001b[0m)                        │ (\u001b[38;5;45mNone\u001b[0m, \u001b[38;5;34m10\u001b[0m)                  │          \u001b[38;5;34m16,010\u001b[0m │\n",
              "└──────────────────────────────────────┴─────────────────────────────┴─────────────────┘\n"
            ],
            "text/html": [
              "<pre style=\"white-space:pre;overflow-x:auto;line-height:normal;font-family:Menlo,'DejaVu Sans Mono',consolas,'Courier New',monospace\">┏━━━━━━━━━━━━━━━━━━━━━━━━━━━━━━━━━━━━━━┳━━━━━━━━━━━━━━━━━━━━━━━━━━━━━┳━━━━━━━━━━━━━━━━━┓\n",
              "┃<span style=\"font-weight: bold\"> Layer (type)                         </span>┃<span style=\"font-weight: bold\"> Output Shape                </span>┃<span style=\"font-weight: bold\">         Param # </span>┃\n",
              "┡━━━━━━━━━━━━━━━━━━━━━━━━━━━━━━━━━━━━━━╇━━━━━━━━━━━━━━━━━━━━━━━━━━━━━╇━━━━━━━━━━━━━━━━━┩\n",
              "│ input_layer (<span style=\"color: #0087ff; text-decoration-color: #0087ff\">InputLayer</span>)             │ (<span style=\"color: #00d7ff; text-decoration-color: #00d7ff\">None</span>, <span style=\"color: #00af00; text-decoration-color: #00af00\">28</span>, <span style=\"color: #00af00; text-decoration-color: #00af00\">28</span>, <span style=\"color: #00af00; text-decoration-color: #00af00\">1</span>)           │               <span style=\"color: #00af00; text-decoration-color: #00af00\">0</span> │\n",
              "├──────────────────────────────────────┼─────────────────────────────┼─────────────────┤\n",
              "│ rescaling_1 (<span style=\"color: #0087ff; text-decoration-color: #0087ff\">Rescaling</span>)              │ (<span style=\"color: #00d7ff; text-decoration-color: #00d7ff\">None</span>, <span style=\"color: #00af00; text-decoration-color: #00af00\">28</span>, <span style=\"color: #00af00; text-decoration-color: #00af00\">28</span>, <span style=\"color: #00af00; text-decoration-color: #00af00\">1</span>)           │               <span style=\"color: #00af00; text-decoration-color: #00af00\">0</span> │\n",
              "├──────────────────────────────────────┼─────────────────────────────┼─────────────────┤\n",
              "│ conv2d_5 (<span style=\"color: #0087ff; text-decoration-color: #0087ff\">Conv2D</span>)                    │ (<span style=\"color: #00d7ff; text-decoration-color: #00d7ff\">None</span>, <span style=\"color: #00af00; text-decoration-color: #00af00\">26</span>, <span style=\"color: #00af00; text-decoration-color: #00af00\">26</span>, <span style=\"color: #00af00; text-decoration-color: #00af00\">32</span>)          │             <span style=\"color: #00af00; text-decoration-color: #00af00\">320</span> │\n",
              "├──────────────────────────────────────┼─────────────────────────────┼─────────────────┤\n",
              "│ max_pooling2d_7 (<span style=\"color: #0087ff; text-decoration-color: #0087ff\">MaxPooling2D</span>)       │ (<span style=\"color: #00d7ff; text-decoration-color: #00d7ff\">None</span>, <span style=\"color: #00af00; text-decoration-color: #00af00\">13</span>, <span style=\"color: #00af00; text-decoration-color: #00af00\">13</span>, <span style=\"color: #00af00; text-decoration-color: #00af00\">32</span>)          │               <span style=\"color: #00af00; text-decoration-color: #00af00\">0</span> │\n",
              "├──────────────────────────────────────┼─────────────────────────────┼─────────────────┤\n",
              "│ conv2d_6 (<span style=\"color: #0087ff; text-decoration-color: #0087ff\">Conv2D</span>)                    │ (<span style=\"color: #00d7ff; text-decoration-color: #00d7ff\">None</span>, <span style=\"color: #00af00; text-decoration-color: #00af00\">11</span>, <span style=\"color: #00af00; text-decoration-color: #00af00\">11</span>, <span style=\"color: #00af00; text-decoration-color: #00af00\">64</span>)          │          <span style=\"color: #00af00; text-decoration-color: #00af00\">18,496</span> │\n",
              "├──────────────────────────────────────┼─────────────────────────────┼─────────────────┤\n",
              "│ max_pooling2d_8 (<span style=\"color: #0087ff; text-decoration-color: #0087ff\">MaxPooling2D</span>)       │ (<span style=\"color: #00d7ff; text-decoration-color: #00d7ff\">None</span>, <span style=\"color: #00af00; text-decoration-color: #00af00\">5</span>, <span style=\"color: #00af00; text-decoration-color: #00af00\">5</span>, <span style=\"color: #00af00; text-decoration-color: #00af00\">64</span>)            │               <span style=\"color: #00af00; text-decoration-color: #00af00\">0</span> │\n",
              "├──────────────────────────────────────┼─────────────────────────────┼─────────────────┤\n",
              "│ flatten_1 (<span style=\"color: #0087ff; text-decoration-color: #0087ff\">Flatten</span>)                  │ (<span style=\"color: #00d7ff; text-decoration-color: #00d7ff\">None</span>, <span style=\"color: #00af00; text-decoration-color: #00af00\">1600</span>)                │               <span style=\"color: #00af00; text-decoration-color: #00af00\">0</span> │\n",
              "├──────────────────────────────────────┼─────────────────────────────┼─────────────────┤\n",
              "│ dropout (<span style=\"color: #0087ff; text-decoration-color: #0087ff\">Dropout</span>)                    │ (<span style=\"color: #00d7ff; text-decoration-color: #00d7ff\">None</span>, <span style=\"color: #00af00; text-decoration-color: #00af00\">1600</span>)                │               <span style=\"color: #00af00; text-decoration-color: #00af00\">0</span> │\n",
              "├──────────────────────────────────────┼─────────────────────────────┼─────────────────┤\n",
              "│ dense (<span style=\"color: #0087ff; text-decoration-color: #0087ff\">Dense</span>)                        │ (<span style=\"color: #00d7ff; text-decoration-color: #00d7ff\">None</span>, <span style=\"color: #00af00; text-decoration-color: #00af00\">10</span>)                  │          <span style=\"color: #00af00; text-decoration-color: #00af00\">16,010</span> │\n",
              "└──────────────────────────────────────┴─────────────────────────────┴─────────────────┘\n",
              "</pre>\n"
            ]
          },
          "metadata": {}
        },
        {
          "output_type": "display_data",
          "data": {
            "text/plain": [
              "\u001b[1m Total params: \u001b[0m\u001b[38;5;34m34,826\u001b[0m (136.04 KB)\n"
            ],
            "text/html": [
              "<pre style=\"white-space:pre;overflow-x:auto;line-height:normal;font-family:Menlo,'DejaVu Sans Mono',consolas,'Courier New',monospace\"><span style=\"font-weight: bold\"> Total params: </span><span style=\"color: #00af00; text-decoration-color: #00af00\">34,826</span> (136.04 KB)\n",
              "</pre>\n"
            ]
          },
          "metadata": {}
        },
        {
          "output_type": "display_data",
          "data": {
            "text/plain": [
              "\u001b[1m Trainable params: \u001b[0m\u001b[38;5;34m34,826\u001b[0m (136.04 KB)\n"
            ],
            "text/html": [
              "<pre style=\"white-space:pre;overflow-x:auto;line-height:normal;font-family:Menlo,'DejaVu Sans Mono',consolas,'Courier New',monospace\"><span style=\"font-weight: bold\"> Trainable params: </span><span style=\"color: #00af00; text-decoration-color: #00af00\">34,826</span> (136.04 KB)\n",
              "</pre>\n"
            ]
          },
          "metadata": {}
        },
        {
          "output_type": "display_data",
          "data": {
            "text/plain": [
              "\u001b[1m Non-trainable params: \u001b[0m\u001b[38;5;34m0\u001b[0m (0.00 B)\n"
            ],
            "text/html": [
              "<pre style=\"white-space:pre;overflow-x:auto;line-height:normal;font-family:Menlo,'DejaVu Sans Mono',consolas,'Courier New',monospace\"><span style=\"font-weight: bold\"> Non-trainable params: </span><span style=\"color: #00af00; text-decoration-color: #00af00\">0</span> (0.00 B)\n",
              "</pre>\n"
            ]
          },
          "metadata": {}
        }
      ]
    },
    {
      "cell_type": "code",
      "source": [
        "x_test_sample = x_test[:5]"
      ],
      "metadata": {
        "id": "zN5OsHlWE_3T"
      },
      "execution_count": null,
      "outputs": []
    },
    {
      "cell_type": "code",
      "source": [
        "x_train = tf.expand_dims(x_train, -1)\n",
        "x_test = tf.expand_dims(x_test, -1)"
      ],
      "metadata": {
        "id": "SSW9kIImBYLH"
      },
      "execution_count": null,
      "outputs": []
    },
    {
      "cell_type": "code",
      "source": [
        "model.compile(\n",
        "    loss = keras.losses.SparseCategoricalCrossentropy(),\n",
        "    optimizer = keras.optimizers.Adam(),\n",
        "    metrics = ['accuracy']\n",
        ")"
      ],
      "metadata": {
        "id": "trvs3QyiCA6l"
      },
      "execution_count": null,
      "outputs": []
    },
    {
      "cell_type": "code",
      "source": [
        "history = model.fit(x_train, y_train, batch_size = 64, epochs = 15, validation_split = 0.2)"
      ],
      "metadata": {
        "colab": {
          "base_uri": "https://localhost:8080/"
        },
        "id": "KunhptDeCDBE",
        "outputId": "3b1cf02d-0196-4db4-be40-fe037ff4becf"
      },
      "execution_count": null,
      "outputs": [
        {
          "output_type": "stream",
          "name": "stdout",
          "text": [
            "Epoch 1/15\n",
            "\u001b[1m750/750\u001b[0m \u001b[32m━━━━━━━━━━━━━━━━━━━━\u001b[0m\u001b[37m\u001b[0m \u001b[1m7s\u001b[0m 4ms/step - accuracy: 0.8299 - loss: 0.5814 - val_accuracy: 0.9764 - val_loss: 0.0780\n",
            "Epoch 2/15\n",
            "\u001b[1m750/750\u001b[0m \u001b[32m━━━━━━━━━━━━━━━━━━━━\u001b[0m\u001b[37m\u001b[0m \u001b[1m2s\u001b[0m 3ms/step - accuracy: 0.9710 - loss: 0.0925 - val_accuracy: 0.9829 - val_loss: 0.0583\n",
            "Epoch 3/15\n",
            "\u001b[1m750/750\u001b[0m \u001b[32m━━━━━━━━━━━━━━━━━━━━\u001b[0m\u001b[37m\u001b[0m \u001b[1m2s\u001b[0m 3ms/step - accuracy: 0.9795 - loss: 0.0674 - val_accuracy: 0.9844 - val_loss: 0.0525\n",
            "Epoch 4/15\n",
            "\u001b[1m750/750\u001b[0m \u001b[32m━━━━━━━━━━━━━━━━━━━━\u001b[0m\u001b[37m\u001b[0m \u001b[1m2s\u001b[0m 3ms/step - accuracy: 0.9840 - loss: 0.0539 - val_accuracy: 0.9854 - val_loss: 0.0500\n",
            "Epoch 5/15\n",
            "\u001b[1m750/750\u001b[0m \u001b[32m━━━━━━━━━━━━━━━━━━━━\u001b[0m\u001b[37m\u001b[0m \u001b[1m2s\u001b[0m 3ms/step - accuracy: 0.9860 - loss: 0.0426 - val_accuracy: 0.9861 - val_loss: 0.0475\n",
            "Epoch 6/15\n",
            "\u001b[1m750/750\u001b[0m \u001b[32m━━━━━━━━━━━━━━━━━━━━\u001b[0m\u001b[37m\u001b[0m \u001b[1m2s\u001b[0m 3ms/step - accuracy: 0.9874 - loss: 0.0401 - val_accuracy: 0.9873 - val_loss: 0.0440\n",
            "Epoch 7/15\n",
            "\u001b[1m750/750\u001b[0m \u001b[32m━━━━━━━━━━━━━━━━━━━━\u001b[0m\u001b[37m\u001b[0m \u001b[1m2s\u001b[0m 3ms/step - accuracy: 0.9897 - loss: 0.0312 - val_accuracy: 0.9874 - val_loss: 0.0426\n",
            "Epoch 8/15\n",
            "\u001b[1m750/750\u001b[0m \u001b[32m━━━━━━━━━━━━━━━━━━━━\u001b[0m\u001b[37m\u001b[0m \u001b[1m2s\u001b[0m 3ms/step - accuracy: 0.9909 - loss: 0.0277 - val_accuracy: 0.9874 - val_loss: 0.0438\n",
            "Epoch 9/15\n",
            "\u001b[1m750/750\u001b[0m \u001b[32m━━━━━━━━━━━━━━━━━━━━\u001b[0m\u001b[37m\u001b[0m \u001b[1m2s\u001b[0m 3ms/step - accuracy: 0.9914 - loss: 0.0268 - val_accuracy: 0.9884 - val_loss: 0.0392\n",
            "Epoch 10/15\n",
            "\u001b[1m750/750\u001b[0m \u001b[32m━━━━━━━━━━━━━━━━━━━━\u001b[0m\u001b[37m\u001b[0m \u001b[1m2s\u001b[0m 3ms/step - accuracy: 0.9919 - loss: 0.0226 - val_accuracy: 0.9893 - val_loss: 0.0381\n",
            "Epoch 11/15\n",
            "\u001b[1m750/750\u001b[0m \u001b[32m━━━━━━━━━━━━━━━━━━━━\u001b[0m\u001b[37m\u001b[0m \u001b[1m2s\u001b[0m 3ms/step - accuracy: 0.9927 - loss: 0.0211 - val_accuracy: 0.9898 - val_loss: 0.0386\n",
            "Epoch 12/15\n",
            "\u001b[1m750/750\u001b[0m \u001b[32m━━━━━━━━━━━━━━━━━━━━\u001b[0m\u001b[37m\u001b[0m \u001b[1m2s\u001b[0m 3ms/step - accuracy: 0.9934 - loss: 0.0195 - val_accuracy: 0.9903 - val_loss: 0.0365\n",
            "Epoch 13/15\n",
            "\u001b[1m750/750\u001b[0m \u001b[32m━━━━━━━━━━━━━━━━━━━━\u001b[0m\u001b[37m\u001b[0m \u001b[1m2s\u001b[0m 3ms/step - accuracy: 0.9944 - loss: 0.0175 - val_accuracy: 0.9901 - val_loss: 0.0400\n",
            "Epoch 14/15\n",
            "\u001b[1m750/750\u001b[0m \u001b[32m━━━━━━━━━━━━━━━━━━━━\u001b[0m\u001b[37m\u001b[0m \u001b[1m2s\u001b[0m 3ms/step - accuracy: 0.9946 - loss: 0.0171 - val_accuracy: 0.9912 - val_loss: 0.0367\n",
            "Epoch 15/15\n",
            "\u001b[1m750/750\u001b[0m \u001b[32m━━━━━━━━━━━━━━━━━━━━\u001b[0m\u001b[37m\u001b[0m \u001b[1m2s\u001b[0m 3ms/step - accuracy: 0.9958 - loss: 0.0128 - val_accuracy: 0.9905 - val_loss: 0.0388\n"
          ]
        }
      ]
    },
    {
      "cell_type": "code",
      "source": [
        "plt.figure(figsize = (10, 4))\n",
        "\n",
        "plt.subplot(1, 2, 1)\n",
        "\n",
        "plt.plot(history.history['loss'], label = 'train')\n",
        "plt.plot(history.history['val_loss'], label = 'valid')\n",
        "plt.title('loss')\n",
        "plt.legend()\n",
        "\n",
        "plt.subplot(1, 2, 2)\n",
        "\n",
        "plt.plot(history.history['accuracy'], label = 'train')\n",
        "plt.plot(history.history['val_accuracy'], label = 'valid')\n",
        "plt.title('accuracy')\n",
        "plt.legend()\n",
        "\n",
        "plt.show()"
      ],
      "metadata": {
        "colab": {
          "base_uri": "https://localhost:8080/",
          "height": 391
        },
        "id": "BiHDC8O-CdTs",
        "outputId": "40a0137f-a861-4191-f5a8-0185aba5f461"
      },
      "execution_count": null,
      "outputs": [
        {
          "output_type": "display_data",
          "data": {
            "text/plain": [
              "<Figure size 1000x400 with 2 Axes>"
            ],
            "image/png": "[encoded data removed]"
          },
          "metadata": {}
        }
      ]
    },
    {
      "cell_type": "markdown",
      "source": [
        "CNN 모델은 MNIST 데이터셋 분류에 대해 0.99가 넘는 압도적인 성능을 보여준다.\n",
        "\n",
        "이제 테스트셋에 대해 모델의 성능을 확인해본다."
      ],
      "metadata": {
        "id": "LzFpfzTBDRjz"
      }
    },
    {
      "cell_type": "code",
      "source": [
        "model.evaluate(x_test, y_test, batch_size = 64)"
      ],
      "metadata": {
        "colab": {
          "base_uri": "https://localhost:8080/"
        },
        "id": "sFYPrN8WDZel",
        "outputId": "1b6fd444-cece-438b-9275-3d462bfebb7e"
      },
      "execution_count": null,
      "outputs": [
        {
          "output_type": "stream",
          "name": "stdout",
          "text": [
            "\u001b[1m157/157\u001b[0m \u001b[32m━━━━━━━━━━━━━━━━━━━━\u001b[0m\u001b[37m\u001b[0m \u001b[1m1s\u001b[0m 5ms/step - accuracy: 0.9891 - loss: 0.0345\n"
          ]
        },
        {
          "output_type": "execute_result",
          "data": {
            "text/plain": [
              "[0.028107324615120888, 0.991100013256073]"
            ]
          },
          "metadata": {},
          "execution_count": 17
        }
      ]
    },
    {
      "cell_type": "markdown",
      "source": [
        "테스트셋에 대해서도 0.99의 정확도를 보인다.\n",
        "\n",
        "처음 5개의 데이터에 대해 확인해본다."
      ],
      "metadata": {
        "id": "vPuiGL19EvrC"
      }
    },
    {
      "cell_type": "code",
      "source": [
        "plt.figure(figsize = (10, 4))\n",
        "\n",
        "for i in range(5):\n",
        "  plt.subplot(1, 5, i + 1)\n",
        "  plt.imshow(x_test_sample[i], cmap = 'gray')\n",
        "  plt.axis('off')\n",
        "\n",
        "plt.show()"
      ],
      "metadata": {
        "colab": {
          "base_uri": "https://localhost:8080/",
          "height": 170
        },
        "id": "hczwNXp4FWn6",
        "outputId": "9ef1feda-1d67-40a6-a7d5-7326307bcc5f"
      },
      "execution_count": null,
      "outputs": [
        {
          "output_type": "display_data",
          "data": {
            "text/plain": [
              "<Figure size 1000x400 with 5 Axes>"
            ],
            "image/png": "[encoded data removed]"
          },
          "metadata": {}
        }
      ]
    },
    {
      "cell_type": "code",
      "source": [
        "sample = x_test[:5]\n",
        "\n",
        "x = model.predict(sample)\n",
        "x = keras.ops.argmax(x, axis = 1)\n",
        "x.numpy()"
      ],
      "metadata": {
        "colab": {
          "base_uri": "https://localhost:8080/"
        },
        "id": "90CpNhKgDuZb",
        "outputId": "21aa1ee0-d570-42e5-e45b-35466d13f8e8"
      },
      "execution_count": null,
      "outputs": [
        {
          "output_type": "stream",
          "name": "stdout",
          "text": [
            "\u001b[1m1/1\u001b[0m \u001b[32m━━━━━━━━━━━━━━━━━━━━\u001b[0m\u001b[37m\u001b[0m \u001b[1m0s\u001b[0m 35ms/step\n"
          ]
        },
        {
          "output_type": "execute_result",
          "data": {
            "text/plain": [
              "array([7, 2, 1, 0, 4], dtype=int32)"
            ]
          },
          "metadata": {},
          "execution_count": 32
        }
      ]
    }
  ]
}